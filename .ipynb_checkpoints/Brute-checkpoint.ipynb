{
 "cells": [
  {
   "cell_type": "markdown",
   "metadata": {},
   "source": [
    "# Ames Housing Price Prediction Model (Brute)"
   ]
  },
  {
   "cell_type": "markdown",
   "metadata": {},
   "source": [
    "This paper presents a data set describing the sale of individual residential property in Ames, Iowa from 2006 to 2010. The data set contains 2930 observations and a large number of explanatory variables (23 nominal, 23 ordinal, 14 discrete, and 20 continuous) involved in assessing home values. I will discuss my previous use of the Boston Housing Data Set and I will suggest methods for incorporating this new data set as a final project in an undergraduate regression course."
   ]
  },
  {
   "cell_type": "markdown",
   "metadata": {},
   "source": [
    "# Problem Statement"
   ]
  },
  {
   "cell_type": "code",
   "execution_count": null,
   "metadata": {},
   "outputs": [],
   "source": []
  },
  {
   "cell_type": "markdown",
   "metadata": {
    "toc": true
   },
   "source": [
    "<h1>Table of Contents<span class=\"tocSkip\"></span></h1>\n",
    "<div class=\"toc\"><ul class=\"toc-item\"><li><span><a href=\"#Initialization\" data-toc-modified-id=\"Initialization-1\"><span class=\"toc-item-num\">1&nbsp;&nbsp;</span>Initialization</a></span><ul class=\"toc-item\"><li><span><a href=\"#Libraries-Import\" data-toc-modified-id=\"Libraries-Import-1.1\"><span class=\"toc-item-num\">1.1&nbsp;&nbsp;</span>Libraries Import</a></span></li><li><span><a href=\"#Data-Overview\" data-toc-modified-id=\"Data-Overview-1.2\"><span class=\"toc-item-num\">1.2&nbsp;&nbsp;</span>Data Overview</a></span></li></ul></li><li><span><a href=\"#Data-Cleaning\" data-toc-modified-id=\"Data-Cleaning-2\"><span class=\"toc-item-num\">2&nbsp;&nbsp;</span>Data Cleaning</a></span><ul class=\"toc-item\"><li><span><a href=\"#General-Cleaning\" data-toc-modified-id=\"General-Cleaning-2.1\"><span class=\"toc-item-num\">2.1&nbsp;&nbsp;</span>General Cleaning</a></span><ul class=\"toc-item\"><li><span><a href=\"#Column-Name\" data-toc-modified-id=\"Column-Name-2.1.1\"><span class=\"toc-item-num\">2.1.1&nbsp;&nbsp;</span>Column Name</a></span></li><li><span><a href=\"#General-Missing-Value-Handling\" data-toc-modified-id=\"General-Missing-Value-Handling-2.1.2\"><span class=\"toc-item-num\">2.1.2&nbsp;&nbsp;</span>General Missing Value Handling</a></span></li><li><span><a href=\"#Lot-Frontage\" data-toc-modified-id=\"Lot-Frontage-2.1.3\"><span class=\"toc-item-num\">2.1.3&nbsp;&nbsp;</span>Lot Frontage</a></span></li><li><span><a href=\"#Masonry-Veneer\" data-toc-modified-id=\"Masonry-Veneer-2.1.4\"><span class=\"toc-item-num\">2.1.4&nbsp;&nbsp;</span>Masonry Veneer</a></span></li><li><span><a href=\"#Basement\" data-toc-modified-id=\"Basement-2.1.5\"><span class=\"toc-item-num\">2.1.5&nbsp;&nbsp;</span>Basement</a></span></li><li><span><a href=\"#Garage-Year-Built\" data-toc-modified-id=\"Garage-Year-Built-2.1.6\"><span class=\"toc-item-num\">2.1.6&nbsp;&nbsp;</span>Garage Year Built</a></span></li></ul></li></ul></li><li><span><a href=\"#Exploratory-Data-Analysis\" data-toc-modified-id=\"Exploratory-Data-Analysis-3\"><span class=\"toc-item-num\">3&nbsp;&nbsp;</span>Exploratory Data Analysis</a></span><ul class=\"toc-item\"><li><span><a href=\"#Numerical-Columns\" data-toc-modified-id=\"Numerical-Columns-3.1\"><span class=\"toc-item-num\">3.1&nbsp;&nbsp;</span>Numerical Columns</a></span></li><li><span><a href=\"#Polynomial-Features\" data-toc-modified-id=\"Polynomial-Features-3.2\"><span class=\"toc-item-num\">3.2&nbsp;&nbsp;</span>Polynomial Features</a></span></li><li><span><a href=\"#Categorical-Columns\" data-toc-modified-id=\"Categorical-Columns-3.3\"><span class=\"toc-item-num\">3.3&nbsp;&nbsp;</span>Categorical Columns</a></span></li></ul></li><li><span><a href=\"#Feature-Engineering\" data-toc-modified-id=\"Feature-Engineering-4\"><span class=\"toc-item-num\">4&nbsp;&nbsp;</span>Feature Engineering</a></span><ul class=\"toc-item\"><li><span><a href=\"#Datetime\" data-toc-modified-id=\"Datetime-4.1\"><span class=\"toc-item-num\">4.1&nbsp;&nbsp;</span>Datetime</a></span></li><li><span><a href=\"#Missing-Data-Imputation-using-Regression\" data-toc-modified-id=\"Missing-Data-Imputation-using-Regression-4.2\"><span class=\"toc-item-num\">4.2&nbsp;&nbsp;</span>Missing Data Imputation using Regression</a></span><ul class=\"toc-item\"><li><span><a href=\"#Garage-Age\" data-toc-modified-id=\"Garage-Age-4.2.1\"><span class=\"toc-item-num\">4.2.1&nbsp;&nbsp;</span>Garage Age</a></span></li><li><span><a href=\"#Preprocessing\" data-toc-modified-id=\"Preprocessing-4.2.2\"><span class=\"toc-item-num\">4.2.2&nbsp;&nbsp;</span>Preprocessing</a></span></li><li><span><a href=\"#Feature-Selection-using-Lasso-Regression\" data-toc-modified-id=\"Feature-Selection-using-Lasso-Regression-4.2.3\"><span class=\"toc-item-num\">4.2.3&nbsp;&nbsp;</span>Feature Selection using Lasso Regression</a></span></li><li><span><a href=\"#Garage-Age-Prediction-using-Linear-Regression\" data-toc-modified-id=\"Garage-Age-Prediction-using-Linear-Regression-4.2.4\"><span class=\"toc-item-num\">4.2.4&nbsp;&nbsp;</span>Garage Age Prediction using Linear Regression</a></span></li><li><span><a href=\"#Data-Merging\" data-toc-modified-id=\"Data-Merging-4.2.5\"><span class=\"toc-item-num\">4.2.5&nbsp;&nbsp;</span>Data Merging</a></span></li></ul></li><li><span><a href=\"#Data-Preprocessing\" data-toc-modified-id=\"Data-Preprocessing-4.3\"><span class=\"toc-item-num\">4.3&nbsp;&nbsp;</span>Data Preprocessing</a></span></li></ul></li><li><span><a href=\"#Modelling\" data-toc-modified-id=\"Modelling-5\"><span class=\"toc-item-num\">5&nbsp;&nbsp;</span>Modelling</a></span><ul class=\"toc-item\"><li><span><a href=\"#Feature-Selection\" data-toc-modified-id=\"Feature-Selection-5.1\"><span class=\"toc-item-num\">5.1&nbsp;&nbsp;</span>Feature Selection</a></span><ul class=\"toc-item\"><li><span><a href=\"#Train-Test-Split\" data-toc-modified-id=\"Train-Test-Split-5.1.1\"><span class=\"toc-item-num\">5.1.1&nbsp;&nbsp;</span>Train-Test Split</a></span></li><li><span><a href=\"#Standard-Scaling\" data-toc-modified-id=\"Standard-Scaling-5.1.2\"><span class=\"toc-item-num\">5.1.2&nbsp;&nbsp;</span>Standard Scaling</a></span></li><li><span><a href=\"#Lasso-Regression\" data-toc-modified-id=\"Lasso-Regression-5.1.3\"><span class=\"toc-item-num\">5.1.3&nbsp;&nbsp;</span>Lasso Regression</a></span></li><li><span><a href=\"#ElasticNet-Regression\" data-toc-modified-id=\"ElasticNet-Regression-5.1.4\"><span class=\"toc-item-num\">5.1.4&nbsp;&nbsp;</span>ElasticNet Regression</a></span></li><li><span><a href=\"#Best-Model\" data-toc-modified-id=\"Best-Model-5.1.5\"><span class=\"toc-item-num\">5.1.5&nbsp;&nbsp;</span>Best Model</a></span></li></ul></li><li><span><a href=\"#Model-Iteration\" data-toc-modified-id=\"Model-Iteration-5.2\"><span class=\"toc-item-num\">5.2&nbsp;&nbsp;</span>Model Iteration</a></span><ul class=\"toc-item\"><li><span><a href=\"#Multiple-Linear-Regression\" data-toc-modified-id=\"Multiple-Linear-Regression-5.2.1\"><span class=\"toc-item-num\">5.2.1&nbsp;&nbsp;</span>Multiple Linear Regression</a></span></li><li><span><a href=\"#Ridge-Regression\" data-toc-modified-id=\"Ridge-Regression-5.2.2\"><span class=\"toc-item-num\">5.2.2&nbsp;&nbsp;</span>Ridge Regression</a></span></li><li><span><a href=\"#Lasso-Regression\" data-toc-modified-id=\"Lasso-Regression-5.2.3\"><span class=\"toc-item-num\">5.2.3&nbsp;&nbsp;</span>Lasso Regression</a></span></li><li><span><a href=\"#GridSearch\" data-toc-modified-id=\"GridSearch-5.2.4\"><span class=\"toc-item-num\">5.2.4&nbsp;&nbsp;</span>GridSearch</a></span></li></ul></li></ul></li><li><span><a href=\"#Prediction\" data-toc-modified-id=\"Prediction-6\"><span class=\"toc-item-num\">6&nbsp;&nbsp;</span>Prediction</a></span><ul class=\"toc-item\"><li><span><a href=\"#Prediction-with-Best-Model\" data-toc-modified-id=\"Prediction-with-Best-Model-6.1\"><span class=\"toc-item-num\">6.1&nbsp;&nbsp;</span>Prediction with Best Model</a></span></li><li><span><a href=\"#Submission-Data-Export\" data-toc-modified-id=\"Submission-Data-Export-6.2\"><span class=\"toc-item-num\">6.2&nbsp;&nbsp;</span>Submission Data Export</a></span></li></ul></li><li><span><a href=\"#Inferential-Statistics\" data-toc-modified-id=\"Inferential-Statistics-7\"><span class=\"toc-item-num\">7&nbsp;&nbsp;</span>Inferential Statistics</a></span></li><li><span><a href=\"#Conclusion\" data-toc-modified-id=\"Conclusion-8\"><span class=\"toc-item-num\">8&nbsp;&nbsp;</span>Conclusion</a></span></li></ul></div>"
   ]
  },
  {
   "cell_type": "markdown",
   "metadata": {},
   "source": [
    "## Initialization"
   ]
  },
  {
   "cell_type": "markdown",
   "metadata": {},
   "source": [
    "### Libraries Import"
   ]
  },
  {
   "cell_type": "code",
   "execution_count": null,
   "metadata": {},
   "outputs": [],
   "source": [
    "# Vanilla Libraries\n",
    "\n",
    "# Pandas Setting"
   ]
  },
  {
   "cell_type": "code",
   "execution_count": null,
   "metadata": {},
   "outputs": [],
   "source": [
    "# Machine Learning Libraries"
   ]
  },
  {
   "cell_type": "code",
   "execution_count": null,
   "metadata": {},
   "outputs": [],
   "source": [
    "# Data Reading"
   ]
  },
  {
   "cell_type": "markdown",
   "metadata": {},
   "source": [
    "### Data Overview"
   ]
  },
  {
   "cell_type": "code",
   "execution_count": null,
   "metadata": {},
   "outputs": [],
   "source": [
    "# Data Shape"
   ]
  },
  {
   "cell_type": "code",
   "execution_count": null,
   "metadata": {},
   "outputs": [],
   "source": [
    "# Sanity Check"
   ]
  },
  {
   "cell_type": "markdown",
   "metadata": {},
   "source": [
    "## Data Cleaning"
   ]
  },
  {
   "cell_type": "markdown",
   "metadata": {},
   "source": [
    "### General Cleaning"
   ]
  },
  {
   "cell_type": "markdown",
   "metadata": {},
   "source": [
    "#### Column Name"
   ]
  },
  {
   "cell_type": "code",
   "execution_count": null,
   "metadata": {},
   "outputs": [],
   "source": [
    "# Replace with standard PEP8 guidelines"
   ]
  },
  {
   "cell_type": "markdown",
   "metadata": {},
   "source": [
    "#### General Missing Value Handling"
   ]
  },
  {
   "cell_type": "code",
   "execution_count": null,
   "metadata": {},
   "outputs": [],
   "source": [
    "# Replace all empty string with np.nan\n",
    "\n",
    "# Cast numerical column back into float"
   ]
  },
  {
   "cell_type": "code",
   "execution_count": null,
   "metadata": {},
   "outputs": [],
   "source": [
    "# Empty columns"
   ]
  },
  {
   "cell_type": "markdown",
   "metadata": {},
   "source": [
    "#### Lot Frontage"
   ]
  },
  {
   "cell_type": "code",
   "execution_count": null,
   "metadata": {},
   "outputs": [],
   "source": []
  },
  {
   "cell_type": "markdown",
   "metadata": {},
   "source": [
    "#### Masonry Veneer"
   ]
  },
  {
   "cell_type": "code",
   "execution_count": null,
   "metadata": {},
   "outputs": [],
   "source": []
  },
  {
   "cell_type": "markdown",
   "metadata": {},
   "source": [
    "#### Basement"
   ]
  },
  {
   "cell_type": "code",
   "execution_count": null,
   "metadata": {},
   "outputs": [],
   "source": []
  },
  {
   "cell_type": "markdown",
   "metadata": {},
   "source": [
    "#### Garage Year Built"
   ]
  },
  {
   "cell_type": "markdown",
   "metadata": {},
   "source": [
    "## Exploratory Data Analysis"
   ]
  },
  {
   "cell_type": "markdown",
   "metadata": {},
   "source": [
    "### Numerical Columns"
   ]
  },
  {
   "cell_type": "code",
   "execution_count": null,
   "metadata": {},
   "outputs": [],
   "source": [
    "# Drop id & pid"
   ]
  },
  {
   "cell_type": "code",
   "execution_count": null,
   "metadata": {},
   "outputs": [],
   "source": [
    "# Cast mssubclass into categorical"
   ]
  },
  {
   "cell_type": "code",
   "execution_count": null,
   "metadata": {},
   "outputs": [],
   "source": [
    "# Correlation Analysis"
   ]
  },
  {
   "cell_type": "markdown",
   "metadata": {},
   "source": [
    "### Polynomial Features"
   ]
  },
  {
   "cell_type": "code",
   "execution_count": null,
   "metadata": {},
   "outputs": [],
   "source": [
    "# Polynomials of continuous feature"
   ]
  },
  {
   "cell_type": "markdown",
   "metadata": {},
   "source": [
    "### Categorical Columns"
   ]
  },
  {
   "cell_type": "code",
   "execution_count": null,
   "metadata": {},
   "outputs": [],
   "source": [
    "# Convert Ordinal columns to Numerical columns"
   ]
  },
  {
   "cell_type": "code",
   "execution_count": null,
   "metadata": {},
   "outputs": [],
   "source": [
    "# Correlation Analysis / Boxplot"
   ]
  },
  {
   "cell_type": "markdown",
   "metadata": {},
   "source": [
    "## Feature Engineering"
   ]
  },
  {
   "cell_type": "markdown",
   "metadata": {},
   "source": [
    "### Datetime"
   ]
  },
  {
   "cell_type": "code",
   "execution_count": null,
   "metadata": {},
   "outputs": [],
   "source": [
    "# Years, DateTime"
   ]
  },
  {
   "cell_type": "code",
   "execution_count": null,
   "metadata": {},
   "outputs": [],
   "source": [
    "# Drop the original column"
   ]
  },
  {
   "cell_type": "markdown",
   "metadata": {},
   "source": [
    "### Missing Data Imputation using Regression"
   ]
  },
  {
   "cell_type": "markdown",
   "metadata": {},
   "source": [
    "#### Garage Age"
   ]
  },
  {
   "cell_type": "code",
   "execution_count": null,
   "metadata": {},
   "outputs": [],
   "source": [
    "# Garage Age"
   ]
  },
  {
   "cell_type": "markdown",
   "metadata": {},
   "source": [
    "#### Preprocessing"
   ]
  },
  {
   "cell_type": "code",
   "execution_count": null,
   "metadata": {},
   "outputs": [],
   "source": [
    "# Standard Scaler\n",
    "\n",
    "# Train-Test Split"
   ]
  },
  {
   "cell_type": "markdown",
   "metadata": {},
   "source": [
    "#### Feature Selection using Lasso Regression"
   ]
  },
  {
   "cell_type": "code",
   "execution_count": null,
   "metadata": {},
   "outputs": [],
   "source": [
    "# Instantiation\n",
    "\n",
    "# Data Training\n",
    "\n",
    "# Metrics Evaluation\n",
    "\n",
    "# Top Features for Prediction\n"
   ]
  },
  {
   "cell_type": "markdown",
   "metadata": {},
   "source": [
    "#### Garage Age Prediction using Linear Regression"
   ]
  },
  {
   "cell_type": "code",
   "execution_count": null,
   "metadata": {},
   "outputs": [],
   "source": [
    "# Instantiation\n",
    "\n",
    "# Data Training\n",
    "\n",
    "# Metrics Evaluation\n"
   ]
  },
  {
   "cell_type": "markdown",
   "metadata": {},
   "source": [
    "#### Data Merging"
   ]
  },
  {
   "cell_type": "code",
   "execution_count": null,
   "metadata": {},
   "outputs": [],
   "source": [
    "# Replace missing data with -1\n",
    "\n",
    "# Replace -1 with prediction"
   ]
  },
  {
   "cell_type": "markdown",
   "metadata": {},
   "source": [
    "### Data Preprocessing"
   ]
  },
  {
   "cell_type": "code",
   "execution_count": null,
   "metadata": {},
   "outputs": [],
   "source": [
    "# One-Hot Encoding"
   ]
  },
  {
   "cell_type": "markdown",
   "metadata": {},
   "source": [
    "## Modelling"
   ]
  },
  {
   "cell_type": "markdown",
   "metadata": {},
   "source": [
    "### Feature Selection"
   ]
  },
  {
   "cell_type": "markdown",
   "metadata": {},
   "source": [
    "#### Train-Test Split"
   ]
  },
  {
   "cell_type": "code",
   "execution_count": null,
   "metadata": {},
   "outputs": [],
   "source": []
  },
  {
   "cell_type": "markdown",
   "metadata": {},
   "source": [
    "#### Standard Scaling"
   ]
  },
  {
   "cell_type": "code",
   "execution_count": null,
   "metadata": {},
   "outputs": [],
   "source": []
  },
  {
   "cell_type": "markdown",
   "metadata": {},
   "source": [
    "#### Lasso Regression"
   ]
  },
  {
   "cell_type": "code",
   "execution_count": null,
   "metadata": {},
   "outputs": [],
   "source": [
    "# Instantiation\n",
    "\n",
    "# Data Training\n",
    "\n",
    "# Metrics Evaluation\n"
   ]
  },
  {
   "cell_type": "markdown",
   "metadata": {},
   "source": [
    "#### ElasticNet Regression"
   ]
  },
  {
   "cell_type": "code",
   "execution_count": 1,
   "metadata": {},
   "outputs": [],
   "source": [
    "# Instantiation\n",
    "\n",
    "# Data Training\n",
    "\n",
    "# Metrics Evaluation\n"
   ]
  },
  {
   "cell_type": "markdown",
   "metadata": {},
   "source": [
    "#### Best Model"
   ]
  },
  {
   "cell_type": "code",
   "execution_count": null,
   "metadata": {},
   "outputs": [],
   "source": []
  },
  {
   "cell_type": "markdown",
   "metadata": {},
   "source": [
    "### Model Iteration"
   ]
  },
  {
   "cell_type": "markdown",
   "metadata": {},
   "source": [
    "#### Multiple Linear Regression"
   ]
  },
  {
   "cell_type": "code",
   "execution_count": null,
   "metadata": {},
   "outputs": [],
   "source": []
  },
  {
   "cell_type": "markdown",
   "metadata": {},
   "source": [
    "#### Ridge Regression"
   ]
  },
  {
   "cell_type": "code",
   "execution_count": null,
   "metadata": {},
   "outputs": [],
   "source": []
  },
  {
   "cell_type": "markdown",
   "metadata": {},
   "source": [
    "#### Lasso Regression"
   ]
  },
  {
   "cell_type": "code",
   "execution_count": null,
   "metadata": {},
   "outputs": [],
   "source": []
  },
  {
   "cell_type": "markdown",
   "metadata": {},
   "source": [
    "#### GridSearch"
   ]
  },
  {
   "cell_type": "code",
   "execution_count": null,
   "metadata": {},
   "outputs": [],
   "source": []
  },
  {
   "cell_type": "markdown",
   "metadata": {},
   "source": [
    "## Prediction"
   ]
  },
  {
   "cell_type": "markdown",
   "metadata": {},
   "source": [
    "### Prediction with Best Model"
   ]
  },
  {
   "cell_type": "code",
   "execution_count": null,
   "metadata": {},
   "outputs": [],
   "source": []
  },
  {
   "cell_type": "markdown",
   "metadata": {},
   "source": [
    "### Submission Data Export"
   ]
  },
  {
   "cell_type": "code",
   "execution_count": null,
   "metadata": {},
   "outputs": [],
   "source": [
    "# Save to CSV for Kaggle Submission (without Index)\n"
   ]
  },
  {
   "cell_type": "markdown",
   "metadata": {},
   "source": [
    "## Inferential Statistics"
   ]
  },
  {
   "cell_type": "code",
   "execution_count": null,
   "metadata": {},
   "outputs": [],
   "source": [
    "# Referring to Coefficient\n"
   ]
  },
  {
   "cell_type": "markdown",
   "metadata": {},
   "source": [
    "## Conclusion"
   ]
  },
  {
   "cell_type": "code",
   "execution_count": null,
   "metadata": {},
   "outputs": [],
   "source": []
  }
 ],
 "metadata": {
  "kernelspec": {
   "display_name": "Python 3",
   "language": "python",
   "name": "python3"
  },
  "language_info": {
   "codemirror_mode": {
    "name": "ipython",
    "version": 3
   },
   "file_extension": ".py",
   "mimetype": "text/x-python",
   "name": "python",
   "nbconvert_exporter": "python",
   "pygments_lexer": "ipython3",
   "version": "3.7.4"
  },
  "toc": {
   "base_numbering": 1,
   "nav_menu": {},
   "number_sections": true,
   "sideBar": true,
   "skip_h1_title": true,
   "title_cell": "Table of Contents",
   "title_sidebar": "Contents",
   "toc_cell": true,
   "toc_position": {},
   "toc_section_display": true,
   "toc_window_display": false
  },
  "varInspector": {
   "cols": {
    "lenName": 16,
    "lenType": 16,
    "lenVar": 40
   },
   "kernels_config": {
    "python": {
     "delete_cmd_postfix": "",
     "delete_cmd_prefix": "del ",
     "library": "var_list.py",
     "varRefreshCmd": "print(var_dic_list())"
    },
    "r": {
     "delete_cmd_postfix": ") ",
     "delete_cmd_prefix": "rm(",
     "library": "var_list.r",
     "varRefreshCmd": "cat(var_dic_list()) "
    }
   },
   "types_to_exclude": [
    "module",
    "function",
    "builtin_function_or_method",
    "instance",
    "_Feature"
   ],
   "window_display": false
  }
 },
 "nbformat": 4,
 "nbformat_minor": 4
}
